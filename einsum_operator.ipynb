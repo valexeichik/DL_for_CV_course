{
 "cells": [
  {
   "cell_type": "code",
   "execution_count": 1,
   "metadata": {},
   "outputs": [],
   "source": [
    "import numpy as np"
   ]
  },
  {
   "cell_type": "code",
   "execution_count": 8,
   "metadata": {},
   "outputs": [
    {
     "name": "stdout",
     "output_type": "stream",
     "text": [
      "(3, 4) (4, 5)\n",
      "[[1.06155502 0.82150936 0.91462684 1.18097623 0.1068072 ]\n",
      " [1.07581035 0.95634551 1.60615965 1.12614583 0.73567523]\n",
      " [1.16936758 0.82972152 1.17408322 1.0306906  0.50852197]]\n",
      "[[1.06155502 0.82150936 0.91462684 1.18097623 0.1068072 ]\n",
      " [1.07581035 0.95634551 1.60615965 1.12614583 0.73567523]\n",
      " [1.16936758 0.82972152 1.17408322 1.0306906  0.50852197]]\n"
     ]
    }
   ],
   "source": [
    "A = np.random.rand(3, 4)\n",
    "B = np.random.rand(4, 5)\n",
    "print(A.shape, B.shape)\n",
    "\n",
    "print(np.matmul(A, B))\n",
    "print(np.einsum(\"ij,jk -> ik\", A,B))"
   ]
  },
  {
   "cell_type": "code",
   "execution_count": 10,
   "metadata": {},
   "outputs": [
    {
     "name": "stdout",
     "output_type": "stream",
     "text": [
      "[[0.32111806 0.2357027  0.16530526 0.31813075]\n",
      " [0.00302694 0.01525022 0.07906909 0.0020372 ]\n",
      " [0.42592921 0.07657249 0.64472758 0.16445191]]\n",
      "[[0.32111806 0.2357027  0.16530526 0.31813075]\n",
      " [0.00302694 0.01525022 0.07906909 0.0020372 ]\n",
      " [0.42592921 0.07657249 0.64472758 0.16445191]]\n"
     ]
    }
   ],
   "source": [
    "A = np.random.rand(3, 4)\n",
    "B = np.random.rand(3, 4)\n",
    "print(A*B)\n",
    "print(np.einsum('ij,ij -> ij', A, B))"
   ]
  },
  {
   "cell_type": "code",
   "execution_count": 11,
   "metadata": {},
   "outputs": [
    {
     "data": {
      "text/plain": [
       "array([[0.32289053, 0.12361542, 0.62560344],\n",
       "       [0.62588531, 0.42235957, 0.08418457],\n",
       "       [0.17408382, 0.7039036 , 0.67724216],\n",
       "       [0.35454406, 0.00875995, 0.20795944]])"
      ]
     },
     "execution_count": 11,
     "metadata": {},
     "output_type": "execute_result"
    }
   ],
   "source": [
    "np.einsum('ij -> ji', A)"
   ]
  },
  {
   "cell_type": "code",
   "execution_count": 17,
   "metadata": {},
   "outputs": [
    {
     "name": "stdout",
     "output_type": "stream",
     "text": [
      "[[[ 88  37  32  59  64]\n",
      "  [109  41  46  67  17]\n",
      "  [125  59  70  73  65]]\n",
      "\n",
      " [[ 58  65  14  91 105]\n",
      "  [ 63  65  55  74 100]\n",
      "  [ 83 112  54 128 151]]]\n"
     ]
    }
   ],
   "source": [
    "A = np.random.randint(0, 10, (2, 3, 4))\n",
    "B = np.random.randint(0, 10, (2, 4, 5))\n",
    "print(np.einsum('bij,bjk -> bik', A, B))"
   ]
  },
  {
   "cell_type": "code",
   "execution_count": 20,
   "metadata": {},
   "outputs": [
    {
     "name": "stdout",
     "output_type": "stream",
     "text": [
      "[[[0 6 3 4]\n",
      "  [7 3 6 3]\n",
      "  [1 5 0 3]]\n",
      "\n",
      " [[1 0 9 9]\n",
      "  [2 3 1 6]\n",
      "  [5 2 8 8]]]\n",
      "\n",
      "95\n",
      "95\n"
     ]
    }
   ],
   "source": [
    "A = np.random.randint(0, 10, (2, 3, 4))\n",
    "print(A)\n",
    "print()\n",
    "print(np.sum(A))\n",
    "print(np.einsum('bij ->', A))\n"
   ]
  },
  {
   "cell_type": "code",
   "execution_count": 23,
   "metadata": {},
   "outputs": [
    {
     "name": "stdout",
     "output_type": "stream",
     "text": [
      "[[3 3 3 2]\n",
      " [7 9 2 7]\n",
      " [9 8 6 7]]\n",
      "[11 25 30]\n",
      "[11 25 30]\n"
     ]
    }
   ],
   "source": [
    "A = np.random.randint(0, 10, (3, 4))\n",
    "print(A)\n",
    "print(np.sum(A, axis=1))\n",
    "print(np.einsum('ij -> i', A))"
   ]
  },
  {
   "cell_type": "code",
   "execution_count": 24,
   "metadata": {},
   "outputs": [
    {
     "name": "stdout",
     "output_type": "stream",
     "text": [
      "(32, 64, 128)\n"
     ]
    }
   ],
   "source": [
    "Q = np.random.randn(32, 64, 512)\n",
    "k = np.random.randn(32, 128, 512)\n",
    "print(np.einsum('bqm,bkm -> bqk', Q, k).shape)"
   ]
  },
  {
   "cell_type": "code",
   "execution_count": 25,
   "metadata": {},
   "outputs": [
    {
     "name": "stdout",
     "output_type": "stream",
     "text": [
      "(2, 4, 1, 2)\n"
     ]
    }
   ],
   "source": [
    "A = np.random.randn(2, 4, 4, 2)\n",
    "B = np.random.randn(2, 4, 4, 1)\n",
    "print(np.einsum('bcik,bcij -> bckj', B, A).shape)"
   ]
  }
 ],
 "metadata": {
  "kernelspec": {
   "display_name": ".venv",
   "language": "python",
   "name": "python3"
  },
  "language_info": {
   "codemirror_mode": {
    "name": "ipython",
    "version": 3
   },
   "file_extension": ".py",
   "mimetype": "text/x-python",
   "name": "python",
   "nbconvert_exporter": "python",
   "pygments_lexer": "ipython3",
   "version": "3.11.4"
  }
 },
 "nbformat": 4,
 "nbformat_minor": 2
}
